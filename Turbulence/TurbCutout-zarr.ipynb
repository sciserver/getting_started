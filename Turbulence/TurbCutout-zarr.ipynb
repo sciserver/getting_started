{
 "cells": [
  {
   "cell_type": "code",
   "execution_count": null,
   "metadata": {},
   "outputs": [],
   "source": [
    "import json\n",
    "with open(\"parameters.txt\",\"r\") as pf:\n",
    "    params=json.load(pf)\n",
    "\n",
    "auth_token=params[\"token\"]\n",
    "tstart=int(params.get(\"ts\"))\n",
    "tend=int(params.get(\"te\"))\n",
    "tstep=int(params.get(\"stridet\"))\n",
    "xstart=int(params.get(\"xs\"))\n",
    "ystart=int(params.get(\"ys\"))\n",
    "zstart=int(params.get(\"zs\"))\n",
    "xend=int(params.get(\"xe\"))\n",
    "yend=int(params.get(\"ye\"))\n",
    "zend=int(params.get(\"ze\"))\n",
    "xstep=int(params.get(\"stridex\",1))\n",
    "ystep=int(params.get(\"stridey\",1))\n",
    "zstep=int(params.get(\"stridez\",1))\n",
    "Filter_Width=int(params.get(\"filter_width\",1))\n",
    "time_step=int(params.get(\"stridet\",0))\n",
    "fields=params.get(\"function\",\"u\")\n",
    "data_set=params.get(\"dataset\",\"isotropic1024coarse\")\n",
    "output_filename=params.get(\"output_filename\",data_set)\n",
    "\n",
    "#if fields == 'u':\n",
    "#    VarName=\"Velocity\"\n",
    "#    dim = 3\n",
    "#elif fields == 'a':\n",
    "#    VarName=\"Vector Potential\"\n",
    "#    dim = 3\n",
    "#elif fields == 'b':\n",
    "#    VarName=\"Magnetic Field\"\n",
    "#    dim = 3\n",
    "#elif fields == 'p':\n",
    "#    VarName=\"Pressure\"\n",
    "#    dim = 1\n",
    "#elif fields == 'd':\n",
    "#    VarName=\"Density\"\n",
    "#    dim = 1\n",
    "#elif fields == 't':\n",
    "#    VarName=\"Temperature\"\n",
    "#    dim = 1"
   ]
  },
  {
   "cell_type": "code",
   "execution_count": null,
   "metadata": {},
   "outputs": [],
   "source": [
    "from giverny.isotropic_cube import *\n",
    "from giverny.turbulence_toolkit import *\n",
    "from giverny.turbulence_gizmos.basic_gizmos import *\n",
    "\n",
    "dataset = iso_cube(dataset_title = data_set, output_path = '.')\n",
    "\n",
    "# user-defined parameters.\n",
    "# -----\n",
    "\n",
    "x_range = [xstart, xend]\n",
    "y_range = [ystart, yend]\n",
    "z_range = [zstart, zend]\n",
    "\n",
    "x_stride = xstep\n",
    "y_stride = ystep\n",
    "z_stride = zstep\n",
    "\n",
    "timepoint = tstart\n",
    "\n",
    "if fields == 'u':\n",
    "    variable = 'velocity'\n",
    "elif fields == 'p':\n",
    "    variable = 'pressure'\n",
    "\n",
    "# use the tools and processing gizmos.\n",
    "# -----\n",
    "# combine all of the axis data together for simplicity.\n",
    "axes_ranges = assemble_axis_data([x_range, y_range, z_range])\n",
    "strides = assemble_axis_data([x_stride, y_stride, z_stride])\n",
    "\n",
    "# process a brick cutout.\n",
    "cutout_data = getCutout(dataset, variable, timepoint, axes_ranges, strides)"
   ]
  },
  {
   "cell_type": "code",
   "execution_count": null,
   "metadata": {},
   "outputs": [],
   "source": [
    "dataset.write_output_matrix_to_hdf5(cutout_data,output_filename,variable)"
   ]
  },
  {
   "cell_type": "code",
   "execution_count": null,
   "metadata": {
    "tags": []
   },
   "outputs": [],
   "source": [
    "import glob\n",
    "import shutil\n",
    "\n",
    "for file in glob.glob('turbulence_output/*'):\n",
    "    shutil.move(file, '.')\n",
    "\n",
    "shutil.rmtree('turbulence_output')\n",
    "shutil.rmtree('turbulence_pickled')"
   ]
  }
 ],
 "metadata": {
  "kernelspec": {
   "display_name": "Python 3.9 (py39)",
   "language": "python",
   "name": "py39"
  },
  "language_info": {
   "codemirror_mode": {
    "name": "ipython",
    "version": 3
   },
   "file_extension": ".py",
   "mimetype": "text/x-python",
   "name": "python",
   "nbconvert_exporter": "python",
   "pygments_lexer": "ipython3",
   "version": "3.9.13"
  }
 },
 "nbformat": 4,
 "nbformat_minor": 4
}
